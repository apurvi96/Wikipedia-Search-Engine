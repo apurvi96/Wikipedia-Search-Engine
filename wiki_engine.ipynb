{
 "cells": [
  {
   "cell_type": "code",
   "execution_count": 5,
   "metadata": {},
   "outputs": [],
   "source": [
    "#import Files \n",
    "import xml.sax\n",
    "import sys\n",
    "import bz2"
   ]
  },
  {
   "cell_type": "code",
   "execution_count": 6,
   "metadata": {},
   "outputs": [],
   "source": [
    "#global Variables \n",
    "PageNo=0 #to maintain total Number of pages in the dump"
   ]
  },
  {
   "cell_type": "code",
   "execution_count": 7,
   "metadata": {},
   "outputs": [],
   "source": [
    "class parseXML( xml.sax.ContentHandler):\n",
    "    \n",
    "    global PageNo \n",
    "    def __init__(self):\n",
    "        xml.sax.ContentHandler.__init__(self)\n",
    "        self.current_tag=\"\"\n",
    "        self.title_content=\"\"\n",
    "        self.text_content=\"\"\n",
    "    \n",
    "    def startElement(self,tag,attributes):\n",
    "        self.current_tag=tag\n",
    "        if tag=='page':\n",
    "            self.title_content=\"\"\n",
    "            self.text_content=\"\"\n",
    "\n",
    "    def characters(self,content):\n",
    "        if self.current_tag==\"title\":\n",
    "            self.title_content+=content\n",
    "        elif self.current_tag==\"text\":\n",
    "            self.text_content+=content\n",
    "            \n",
    "    def endElement(self,tag):\n",
    "        if tag=='page':\n",
    "            global PageNo\n",
    "            print(\"----------------------end page\",PageNo,\"----------------------------\")\n",
    "            PageNo+=1\n",
    "            if PageNo==2:\n",
    "                sys.exit()\n",
    "        \n",
    "        elif tag=='title':\n",
    "            print(\"In title\")\n",
    "            print(self.title_content)\n",
    "        \n",
    "        elif tag=='text':\n",
    "            print(\"In text\")\n",
    "        self.current_tag=\"\""
   ]
  },
  {
   "cell_type": "code",
   "execution_count": 8,
   "metadata": {},
   "outputs": [
    {
     "name": "stdout",
     "output_type": "stream",
     "text": [
      "In title\n",
      "AccessibleComputing\n",
      "In text\n",
      "----------------------end page 0 ----------------------------\n",
      "In title\n",
      "Anarchism\n",
      "In text\n",
      "----------------------end page 1 ----------------------------\n"
     ]
    },
    {
     "ename": "SystemExit",
     "evalue": "",
     "output_type": "error",
     "traceback": [
      "An exception has occurred, use %tb to see the full traceback.\n",
      "\u001b[0;31mSystemExit\u001b[0m\n"
     ]
    }
   ],
   "source": [
    "if __name__==\"__main__\":\n",
    "    Wiki_input_file=\"./Data/input.bz2\"\n",
    "    source = bz2.BZ2File(Wiki_input_file, \"rb\")\n",
    "\n",
    "    #Create a parser Object\n",
    "    parser= xml.sax.make_parser()\n",
    "\n",
    "    #turnoff namespaces\n",
    "    parser.setFeature(xml.sax.handler.feature_namespaces, 0)\n",
    "    \n",
    "    #callHandler\n",
    "    handler= parseXML()\n",
    "    \n",
    "    #parse data \n",
    "    parser.setContentHandler(handler)\n",
    "    parser.parse(source)\n",
    "    \n",
    "    "
   ]
  },
  {
   "cell_type": "code",
   "execution_count": null,
   "metadata": {},
   "outputs": [],
   "source": []
  },
  {
   "cell_type": "code",
   "execution_count": null,
   "metadata": {},
   "outputs": [],
   "source": []
  }
 ],
 "metadata": {
  "kernelspec": {
   "display_name": "Python 3",
   "language": "python",
   "name": "python3"
  },
  "language_info": {
   "codemirror_mode": {
    "name": "ipython",
    "version": 3
   },
   "file_extension": ".py",
   "mimetype": "text/x-python",
   "name": "python",
   "nbconvert_exporter": "python",
   "pygments_lexer": "ipython3",
   "version": "3.6.9"
  }
 },
 "nbformat": 4,
 "nbformat_minor": 4
}
